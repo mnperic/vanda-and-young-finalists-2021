{
 "cells": [
  {
   "cell_type": "code",
   "execution_count": null,
   "id": "a5a3de88",
   "metadata": {},
   "outputs": [],
   "source": [
    "# Import dependencies and setup\n",
    "\n",
    "import seaborn as sns\n",
    "import matplotlib.pyplot as plt\n",
    "import matplotlib as matplotlib\n",
    "import pandas as pd"
   ]
  },
  {
   "cell_type": "code",
   "execution_count": null,
   "id": "dff0d936",
   "metadata": {},
   "outputs": [],
   "source": [
    "# Read .csv and store in DataFrame\n",
    "\n",
    "file_to_load = \"Resources/vanda_and_young_finalists_2021_summary.csv\"\n",
    "vanda_and_young_df = pd.read_csv(file_to_load)\n",
    "vanda_and_young_df = vanda_and_young_df.apply(lambda x: pd.Series(x.dropna().values))\n",
    "vanda_and_young_df.head()"
   ]
  },
  {
   "cell_type": "code",
   "execution_count": null,
   "id": "88cb4d9e",
   "metadata": {},
   "outputs": [],
   "source": [
    "# Define variables\n",
    "# Total entries (as artist names)\n",
    "\n",
    "total_entries_2021 = 3837\n",
    "total_entries = len(vanda_and_young_df[\"entry_name\"].value_counts())\n",
    "total_entries_df = {\"Total number of entries\": [total_entries]}\n",
    "total_entries_df = pd.DataFrame(total_entries_df)\n",
    "total_entries_df"
   ]
  },
  {
   "cell_type": "code",
   "execution_count": 376,
   "id": "ebec1b6b",
   "metadata": {},
   "outputs": [
    {
     "data": {
      "text/html": [
       "<div>\n",
       "<style scoped>\n",
       "    .dataframe tbody tr th:only-of-type {\n",
       "        vertical-align: middle;\n",
       "    }\n",
       "\n",
       "    .dataframe tbody tr th {\n",
       "        vertical-align: top;\n",
       "    }\n",
       "\n",
       "    .dataframe thead th {\n",
       "        text-align: right;\n",
       "    }\n",
       "</style>\n",
       "<table border=\"1\" class=\"dataframe\">\n",
       "  <thead>\n",
       "    <tr style=\"text-align: right;\">\n",
       "      <th></th>\n",
       "      <th>Total number of unique artists</th>\n",
       "    </tr>\n",
       "  </thead>\n",
       "  <tbody>\n",
       "    <tr>\n",
       "      <th>0</th>\n",
       "      <td>41</td>\n",
       "    </tr>\n",
       "  </tbody>\n",
       "</table>\n",
       "</div>"
      ],
      "text/plain": [
       "   Total number of unique artists\n",
       "0                              41"
      ]
     },
     "execution_count": 376,
     "metadata": {},
     "output_type": "execute_result"
    }
   ],
   "source": [
    "# Total number of unique artist (listed as individuals, not part of group/entry name)\n",
    "\n",
    "unique_artists = len(vanda_and_young_df[\"unique_names\"].value_counts())\n",
    "unique_artists_df = {\"Total number of unique artists\": [unique_artists]}\n",
    "unique_artists_df = pd.DataFrame(unique_artists_df)\n",
    "unique_artists_df"
   ]
  },
  {
   "cell_type": "code",
   "execution_count": 377,
   "id": "4edcc873",
   "metadata": {},
   "outputs": [
    {
     "data": {
      "text/html": [
       "<div>\n",
       "<style scoped>\n",
       "    .dataframe tbody tr th:only-of-type {\n",
       "        vertical-align: middle;\n",
       "    }\n",
       "\n",
       "    .dataframe tbody tr th {\n",
       "        vertical-align: top;\n",
       "    }\n",
       "\n",
       "    .dataframe thead th {\n",
       "        text-align: right;\n",
       "    }\n",
       "</style>\n",
       "<table border=\"1\" class=\"dataframe\">\n",
       "  <thead>\n",
       "    <tr style=\"text-align: right;\">\n",
       "      <th></th>\n",
       "      <th>Total number of artists who were published</th>\n",
       "    </tr>\n",
       "  </thead>\n",
       "  <tbody>\n",
       "    <tr>\n",
       "      <th>0</th>\n",
       "      <td>26</td>\n",
       "    </tr>\n",
       "  </tbody>\n",
       "</table>\n",
       "</div>"
      ],
      "text/plain": [
       "   Total number of artists who were published\n",
       "0                                          26"
      ]
     },
     "execution_count": 377,
     "metadata": {},
     "output_type": "execute_result"
    }
   ],
   "source": [
    "# Total number of finalists who were published (total = 40)\n",
    "\n",
    "published = 26\n",
    "published_df = {\"Total number of artists who were published\": [published]}\n",
    "published_df = pd.DataFrame(published_df)\n",
    "published_df"
   ]
  },
  {
   "cell_type": "code",
   "execution_count": 378,
   "id": "2cb87da3",
   "metadata": {},
   "outputs": [
    {
     "data": {
      "text/html": [
       "<div>\n",
       "<style scoped>\n",
       "    .dataframe tbody tr th:only-of-type {\n",
       "        vertical-align: middle;\n",
       "    }\n",
       "\n",
       "    .dataframe tbody tr th {\n",
       "        vertical-align: top;\n",
       "    }\n",
       "\n",
       "    .dataframe thead th {\n",
       "        text-align: right;\n",
       "    }\n",
       "</style>\n",
       "<table border=\"1\" class=\"dataframe\">\n",
       "  <thead>\n",
       "    <tr style=\"text-align: right;\">\n",
       "      <th></th>\n",
       "      <th>Total number of artists who were unpublished</th>\n",
       "    </tr>\n",
       "  </thead>\n",
       "  <tbody>\n",
       "    <tr>\n",
       "      <th>0</th>\n",
       "      <td>14</td>\n",
       "    </tr>\n",
       "  </tbody>\n",
       "</table>\n",
       "</div>"
      ],
      "text/plain": [
       "   Total number of artists who were unpublished\n",
       "0                                            14"
      ]
     },
     "execution_count": 378,
     "metadata": {},
     "output_type": "execute_result"
    }
   ],
   "source": [
    "# Total number of finalists who were unpublished (total = 40)\n",
    "\n",
    "unpublished = 14\n",
    "unpublished_df = {\"Total number of artists who were unpublished\": [unpublished]}\n",
    "unpublished_df = pd.DataFrame(unpublished_df)\n",
    "unpublished_df"
   ]
  },
  {
   "cell_type": "code",
   "execution_count": 379,
   "id": "f3f48fca",
   "metadata": {},
   "outputs": [
    {
     "data": {
      "text/html": [
       "<div>\n",
       "<style scoped>\n",
       "    .dataframe tbody tr th:only-of-type {\n",
       "        vertical-align: middle;\n",
       "    }\n",
       "\n",
       "    .dataframe tbody tr th {\n",
       "        vertical-align: top;\n",
       "    }\n",
       "\n",
       "    .dataframe thead th {\n",
       "        text-align: right;\n",
       "    }\n",
       "</style>\n",
       "<table border=\"1\" class=\"dataframe\">\n",
       "  <thead>\n",
       "    <tr style=\"text-align: right;\">\n",
       "      <th></th>\n",
       "      <th>Percentage of finalists who were published</th>\n",
       "    </tr>\n",
       "  </thead>\n",
       "  <tbody>\n",
       "    <tr>\n",
       "      <th>0</th>\n",
       "      <td>65.0</td>\n",
       "    </tr>\n",
       "  </tbody>\n",
       "</table>\n",
       "</div>"
      ],
      "text/plain": [
       "   Percentage of finalists who were published\n",
       "0                                        65.0"
      ]
     },
     "execution_count": 379,
     "metadata": {},
     "output_type": "execute_result"
    }
   ],
   "source": [
    "# Percentage of published\n",
    "\n",
    "published_percent = published/total_entries*100\n",
    "published_percent_df = {\"Percentage of finalists who were published\": [published_percent]}\n",
    "published_percent_df = pd.DataFrame(published_percent_df)\n",
    "published_percent_df"
   ]
  },
  {
   "cell_type": "code",
   "execution_count": 380,
   "id": "98ffb340",
   "metadata": {
    "scrolled": true
   },
   "outputs": [
    {
     "data": {
      "text/html": [
       "<div>\n",
       "<style scoped>\n",
       "    .dataframe tbody tr th:only-of-type {\n",
       "        vertical-align: middle;\n",
       "    }\n",
       "\n",
       "    .dataframe tbody tr th {\n",
       "        vertical-align: top;\n",
       "    }\n",
       "\n",
       "    .dataframe thead th {\n",
       "        text-align: right;\n",
       "    }\n",
       "</style>\n",
       "<table border=\"1\" class=\"dataframe\">\n",
       "  <thead>\n",
       "    <tr style=\"text-align: right;\">\n",
       "      <th></th>\n",
       "      <th>Percentage of finalists who were unpublished</th>\n",
       "    </tr>\n",
       "  </thead>\n",
       "  <tbody>\n",
       "    <tr>\n",
       "      <th>0</th>\n",
       "      <td>35.0</td>\n",
       "    </tr>\n",
       "  </tbody>\n",
       "</table>\n",
       "</div>"
      ],
      "text/plain": [
       "   Percentage of finalists who were unpublished\n",
       "0                                          35.0"
      ]
     },
     "execution_count": 380,
     "metadata": {},
     "output_type": "execute_result"
    }
   ],
   "source": [
    "# Percentage of unpublished\n",
    "\n",
    "unpublished_percent = unpublished/total_entries*100\n",
    "unpublished_percent_df = {\"Percentage of finalists who were unpublished\": [unpublished_percent]}\n",
    "unpublished_percent_df = pd.DataFrame(unpublished_percent_df)\n",
    "unpublished_percent_df"
   ]
  },
  {
   "cell_type": "code",
   "execution_count": 381,
   "id": "8515828c",
   "metadata": {},
   "outputs": [
    {
     "data": {
      "text/html": [
       "<div>\n",
       "<style scoped>\n",
       "    .dataframe tbody tr th:only-of-type {\n",
       "        vertical-align: middle;\n",
       "    }\n",
       "\n",
       "    .dataframe tbody tr th {\n",
       "        vertical-align: top;\n",
       "    }\n",
       "\n",
       "    .dataframe thead th {\n",
       "        text-align: right;\n",
       "    }\n",
       "</style>\n",
       "<table border=\"1\" class=\"dataframe\">\n",
       "  <thead>\n",
       "    <tr style=\"text-align: right;\">\n",
       "      <th></th>\n",
       "      <th>Total amount ($) received from finalists</th>\n",
       "    </tr>\n",
       "  </thead>\n",
       "  <tbody>\n",
       "    <tr>\n",
       "      <th>0</th>\n",
       "      <td>2000</td>\n",
       "    </tr>\n",
       "  </tbody>\n",
       "</table>\n",
       "</div>"
      ],
      "text/plain": [
       "   Total amount ($) received from finalists\n",
       "0                                      2000"
      ]
     },
     "execution_count": 381,
     "metadata": {},
     "output_type": "execute_result"
    }
   ],
   "source": [
    "# Total amount collected per published/unpublished class\n",
    "\n",
    "entry_fee = 50\n",
    "total_finalists_amount = total_entries*entry_fee\n",
    "total_finalists_amount_df = {\"Total amount ($) received from finalists\": [total_finalists_amount]}\n",
    "total_finalists_amount_df = pd.DataFrame(total_finalists_amount_df)\n",
    "total_finalists_amount_df"
   ]
  },
  {
   "cell_type": "code",
   "execution_count": 382,
   "id": "17a70bb4",
   "metadata": {},
   "outputs": [
    {
     "data": {
      "text/html": [
       "<div>\n",
       "<style scoped>\n",
       "    .dataframe tbody tr th:only-of-type {\n",
       "        vertical-align: middle;\n",
       "    }\n",
       "\n",
       "    .dataframe tbody tr th {\n",
       "        vertical-align: top;\n",
       "    }\n",
       "\n",
       "    .dataframe thead th {\n",
       "        text-align: right;\n",
       "    }\n",
       "</style>\n",
       "<table border=\"1\" class=\"dataframe\">\n",
       "  <thead>\n",
       "    <tr style=\"text-align: right;\">\n",
       "      <th></th>\n",
       "      <th>Total amount ($) received from published finalists</th>\n",
       "    </tr>\n",
       "  </thead>\n",
       "  <tbody>\n",
       "    <tr>\n",
       "      <th>0</th>\n",
       "      <td>1300</td>\n",
       "    </tr>\n",
       "  </tbody>\n",
       "</table>\n",
       "</div>"
      ],
      "text/plain": [
       "   Total amount ($) received from published finalists\n",
       "0                                               1300 "
      ]
     },
     "execution_count": 382,
     "metadata": {},
     "output_type": "execute_result"
    }
   ],
   "source": [
    "# Total amount collected from published finalist\n",
    "\n",
    "total_published_amount = published*entry_fee\n",
    "total_published_amount_df = {\"Total amount ($) received from published finalists\": [total_published_amount]}\n",
    "total_published_amount_df = pd.DataFrame(total_published_amount_df)\n",
    "total_published_amount_df"
   ]
  },
  {
   "cell_type": "code",
   "execution_count": 383,
   "id": "cd36d07a",
   "metadata": {},
   "outputs": [
    {
     "data": {
      "text/html": [
       "<div>\n",
       "<style scoped>\n",
       "    .dataframe tbody tr th:only-of-type {\n",
       "        vertical-align: middle;\n",
       "    }\n",
       "\n",
       "    .dataframe tbody tr th {\n",
       "        vertical-align: top;\n",
       "    }\n",
       "\n",
       "    .dataframe thead th {\n",
       "        text-align: right;\n",
       "    }\n",
       "</style>\n",
       "<table border=\"1\" class=\"dataframe\">\n",
       "  <thead>\n",
       "    <tr style=\"text-align: right;\">\n",
       "      <th></th>\n",
       "      <th>Total amount ($) received from unpublished finalists</th>\n",
       "    </tr>\n",
       "  </thead>\n",
       "  <tbody>\n",
       "    <tr>\n",
       "      <th>0</th>\n",
       "      <td>700</td>\n",
       "    </tr>\n",
       "  </tbody>\n",
       "</table>\n",
       "</div>"
      ],
      "text/plain": [
       "   Total amount ($) received from unpublished finalists\n",
       "0                                                700   "
      ]
     },
     "execution_count": 383,
     "metadata": {},
     "output_type": "execute_result"
    }
   ],
   "source": [
    "# Total amount collected from unpublished finalist\n",
    "\n",
    "total_unpublished_amount = unpublished*entry_fee\n",
    "total_unpublished_amount_df = {\"Total amount ($) received from unpublished finalists\": [total_unpublished_amount]}\n",
    "total_unpublished_amount_df = pd.DataFrame(total_unpublished_amount_df)\n",
    "total_unpublished_amount_df"
   ]
  },
  {
   "cell_type": "code",
   "execution_count": 384,
   "id": "736d04ea",
   "metadata": {},
   "outputs": [
    {
     "data": {
      "text/html": [
       "<div>\n",
       "<style scoped>\n",
       "    .dataframe tbody tr th:only-of-type {\n",
       "        vertical-align: middle;\n",
       "    }\n",
       "\n",
       "    .dataframe tbody tr th {\n",
       "        vertical-align: top;\n",
       "    }\n",
       "\n",
       "    .dataframe thead th {\n",
       "        text-align: right;\n",
       "    }\n",
       "</style>\n",
       "<table border=\"1\" class=\"dataframe\">\n",
       "  <thead>\n",
       "    <tr style=\"text-align: right;\">\n",
       "      <th></th>\n",
       "      <th>Total amount ($) received from entire 2021 competition</th>\n",
       "    </tr>\n",
       "  </thead>\n",
       "  <tbody>\n",
       "    <tr>\n",
       "      <th>0</th>\n",
       "      <td>191850</td>\n",
       "    </tr>\n",
       "  </tbody>\n",
       "</table>\n",
       "</div>"
      ],
      "text/plain": [
       "   Total amount ($) received from entire 2021 competition\n",
       "0                                             191850     "
      ]
     },
     "execution_count": 384,
     "metadata": {},
     "output_type": "execute_result"
    }
   ],
   "source": [
    "# Total amount collected from entire 2021 competition\n",
    "\n",
    "total_amount_2021 = total_entries_2021*entry_fee\n",
    "total_amount_2021_df = {\"Total amount ($) received from entire 2021 competition\": [total_amount_2021]}\n",
    "total_amount_2021_df = pd.DataFrame(total_amount_2021_df)\n",
    "total_amount_2021_df"
   ]
  },
  {
   "cell_type": "code",
   "execution_count": 385,
   "id": "0cee18ce",
   "metadata": {
    "scrolled": true
   },
   "outputs": [
    {
     "data": {
      "text/html": [
       "<div>\n",
       "<style scoped>\n",
       "    .dataframe tbody tr th:only-of-type {\n",
       "        vertical-align: middle;\n",
       "    }\n",
       "\n",
       "    .dataframe tbody tr th {\n",
       "        vertical-align: top;\n",
       "    }\n",
       "\n",
       "    .dataframe thead th {\n",
       "        text-align: right;\n",
       "    }\n",
       "</style>\n",
       "<table border=\"1\" class=\"dataframe\">\n",
       "  <thead>\n",
       "    <tr style=\"text-align: right;\">\n",
       "      <th></th>\n",
       "      <th>Total number of entries</th>\n",
       "      <th>Total number of unique artists</th>\n",
       "      <th>Total number of artists who were published</th>\n",
       "      <th>Total number of artists who were unpublished</th>\n",
       "      <th>Percentage of finalists who were published</th>\n",
       "      <th>Percentage of finalists who were unpublished</th>\n",
       "      <th>Total amount ($) received from finalists</th>\n",
       "      <th>Total amount ($) received from published finalists</th>\n",
       "      <th>Total amount ($) received from unpublished finalists</th>\n",
       "      <th>Total amount ($) received from entire 2021 competition</th>\n",
       "    </tr>\n",
       "  </thead>\n",
       "  <tbody>\n",
       "    <tr>\n",
       "      <th>0</th>\n",
       "      <td>40.0</td>\n",
       "      <td>41.0</td>\n",
       "      <td>26.0</td>\n",
       "      <td>14.0</td>\n",
       "      <td>65.0</td>\n",
       "      <td>35.0</td>\n",
       "      <td>2000.0</td>\n",
       "      <td>1300.0</td>\n",
       "      <td>700.0</td>\n",
       "      <td>191850.0</td>\n",
       "    </tr>\n",
       "  </tbody>\n",
       "</table>\n",
       "</div>"
      ],
      "text/plain": [
       "   Total number of entries  Total number of unique artists  \\\n",
       "0                     40.0                            41.0   \n",
       "\n",
       "   Total number of artists who were published  \\\n",
       "0                                        26.0   \n",
       "\n",
       "   Total number of artists who were unpublished  \\\n",
       "0                                          14.0   \n",
       "\n",
       "   Percentage of finalists who were published  \\\n",
       "0                                        65.0   \n",
       "\n",
       "   Percentage of finalists who were unpublished  \\\n",
       "0                                          35.0   \n",
       "\n",
       "   Total amount ($) received from finalists  \\\n",
       "0                                    2000.0   \n",
       "\n",
       "   Total amount ($) received from published finalists  \\\n",
       "0                                             1300.0    \n",
       "\n",
       "   Total amount ($) received from unpublished finalists  \\\n",
       "0                                              700.0      \n",
       "\n",
       "   Total amount ($) received from entire 2021 competition  \n",
       "0                                           191850.0       "
      ]
     },
     "execution_count": 385,
     "metadata": {},
     "output_type": "execute_result"
    }
   ],
   "source": [
    "# Summary table\n",
    "\n",
    "summary_table_df = pd.concat([total_entries_df, unique_artists_df, published_df, \n",
    "                              unpublished_df, published_percent_df, unpublished_percent_df, \n",
    "                              total_finalists_amount_df, total_published_amount_df, total_unpublished_amount_df, \n",
    "                              total_amount_2021_df])\n",
    "summary_table_df = summary_table_df.apply(lambda x: pd.Series(x.dropna().values))\n",
    "summary_table_df"
   ]
  },
  {
   "cell_type": "code",
   "execution_count": 531,
   "id": "6ebb351a",
   "metadata": {},
   "outputs": [
    {
     "data": {
      "image/png": "[encoded data removed]",
      "text/plain": [
       "<Figure size 432x288 with 1 Axes>"
      ]
     },
     "metadata": {},
     "output_type": "display_data"
    }
   ],
   "source": [
    "# Plot percentage of 'published vs. unpublished' as pie chart\n",
    "\n",
    "# Define data\n",
    "data = [published_percent, unpublished_percent]\n",
    "labels = ['Published/Signed', 'Unpublished/Unsigned']\n",
    "\n",
    "# Define Seaborn color palette\n",
    "colors = sns.color_palette('pastel')[0:5]\n",
    "\n",
    "# Font families\n",
    "font_1 = {'family':'helvetica','color':'black','size':12}\n",
    "\n",
    "# Create pie chart\n",
    "plt.pie(data, labels = labels, colors = colors, autopct='%.0f%%')\n",
    "plt.title('Overview of 2021 finalists in 2021', fontdict = font_1)\n",
    "plt.savefig(\"/Users/minoperic/Data Analytics/Data Investigations/vanda-and-young-finalists-2021/Images/published_unpublished_pie.png\", dpi=300)\n",
    "plt.show()"
   ]
  },
  {
   "cell_type": "code",
   "execution_count": 387,
   "id": "fa702d97",
   "metadata": {},
   "outputs": [
    {
     "data": {
      "text/html": [
       "<div>\n",
       "<style scoped>\n",
       "    .dataframe tbody tr th:only-of-type {\n",
       "        vertical-align: middle;\n",
       "    }\n",
       "\n",
       "    .dataframe tbody tr th {\n",
       "        vertical-align: top;\n",
       "    }\n",
       "\n",
       "    .dataframe thead th {\n",
       "        text-align: right;\n",
       "    }\n",
       "</style>\n",
       "<table border=\"1\" class=\"dataframe\">\n",
       "  <thead>\n",
       "    <tr style=\"text-align: right;\">\n",
       "      <th></th>\n",
       "      <th>Universal</th>\n",
       "      <th>Sony</th>\n",
       "      <th>Mushroom</th>\n",
       "      <th>Kobalt</th>\n",
       "      <th>BMG</th>\n",
       "      <th>Downtown</th>\n",
       "      <th>Embassy</th>\n",
       "      <th>Native Tongue</th>\n",
       "      <th>Sentric</th>\n",
       "      <th>Warner Chappell</th>\n",
       "      <th>Gaga</th>\n",
       "      <th>EMI</th>\n",
       "      <th>Ourness Songs</th>\n",
       "      <th>Future Classic</th>\n",
       "    </tr>\n",
       "  </thead>\n",
       "  <tbody>\n",
       "    <tr>\n",
       "      <th>0</th>\n",
       "      <td>9</td>\n",
       "      <td>8</td>\n",
       "      <td>6</td>\n",
       "      <td>7</td>\n",
       "      <td>5</td>\n",
       "      <td>1</td>\n",
       "      <td>1</td>\n",
       "      <td>1</td>\n",
       "      <td>1</td>\n",
       "      <td>1</td>\n",
       "      <td>1</td>\n",
       "      <td>1</td>\n",
       "      <td>1</td>\n",
       "      <td>1</td>\n",
       "    </tr>\n",
       "  </tbody>\n",
       "</table>\n",
       "</div>"
      ],
      "text/plain": [
       "   Universal  Sony  Mushroom  Kobalt  BMG  Downtown  Embassy  Native Tongue  \\\n",
       "0          9     8         6       7    5         1        1              1   \n",
       "\n",
       "   Sentric  Warner Chappell  Gaga  EMI  Ourness Songs  Future Classic  \n",
       "0        1                1     1    1              1               1  "
      ]
     },
     "execution_count": 387,
     "metadata": {},
     "output_type": "execute_result"
    }
   ],
   "source": [
    "# Define number of published entries per publisher\n",
    "\n",
    "# List of publishers\n",
    "\n",
    "universal = 9\n",
    "sony = 8\n",
    "mushroom = 6\n",
    "kobalt = 7\n",
    "bmg = 5\n",
    "downtown = 1\n",
    "embassy = 1\n",
    "native_tongue = 1\n",
    "sentric = 1\n",
    "warner_chappell = 1\n",
    "gaga = 1\n",
    "emi = 1\n",
    "ourness_songs = 1\n",
    "future_classic = 1\n",
    "\n",
    "# Create DataFrame\n",
    "\n",
    "publishers_df = {\"Universal\": [universal],\n",
    "                \"Sony\": [sony],\n",
    "                \"Mushroom\": [mushroom],\n",
    "                \"Kobalt\": [kobalt],\n",
    "                \"BMG\": [bmg],\n",
    "                \"Downtown\": [downtown],\n",
    "                \"Embassy\": [embassy],\n",
    "                \"Native Tongue\": [native_tongue],\n",
    "                \"Sentric\": [sentric],\n",
    "                \"Warner Chappell\": [warner_chappell],\n",
    "                \"Gaga\": [gaga],\n",
    "                \"EMI\": [emi],\n",
    "                \"Ourness Songs\": [ourness_songs],\n",
    "                \"Future Classic\": [future_classic]}\n",
    "\n",
    "publishers_df = pd.DataFrame(publishers_df)\n",
    "publishers_df"
   ]
  },
  {
   "cell_type": "code",
   "execution_count": null,
   "id": "087bf9e2",
   "metadata": {},
   "outputs": [],
   "source": [
    "# Plot share of publishers as bar chart\n",
    "\n",
    "# Define data\n",
    "\n",
    "plt.figure(figsize=(15,5))\n",
    "publishers = ['Universal', 'Sony', 'Mushroom', 'Kobalt', 'BMG', 'Downtown', 'Embassy', 'Native Tongue', 'Sentric',\n",
    "             'Warner Chappell', 'Gaga', 'EMI', 'Ourness Songs', 'Future Classic']\n",
    "\n",
    "number_of_songs = [9, 8, 6, 7, 5, 1, 1, 1, 1, 1, 1, 1, 1, 1]\n",
    "\n",
    "plt.bar(publishers, number_of_songs, color='blue', alpha=0.6, align=\"center\")\n",
    "plt.xticks(x, x, rotation=45)\n",
    "\n",
    "# Font families\n",
    "\n",
    "font_1 = {'family':'helvetica','color':'black','size':16}\n",
    "font_2 = {'family':'helvetica','color':'black','size':12}\n",
    "\n",
    "plt.title(\"Distribution of publishers for 2021 finalists\",\n",
    "         fontdict = font_1)\n",
    "\n",
    "# Plot\n",
    "plt.xlabel(\"Publisher\", fontdict = font_2)\n",
    "plt.ylabel(\"Number of songs\", fontdict = font_2)\n",
    "\n",
    "# Aesthetics\n",
    "\n",
    "sns.set_context(\"paper\")\n",
    "plt.gca().spines['top'].set_visible(False)\n",
    "plt.gca().spines['right'].set_visible(False)\n",
    "\n",
    "plt.tight_layout()\n",
    "plt.savefig(\"/Users/minoperic/Data Analytics/Data Investigations/vanda-and-young-finalists-2021/Images/publishers.png\", \n",
    "            dpi=300)\n",
    "plt.show()"
   ]
  },
  {
   "cell_type": "code",
   "execution_count": 506,
   "id": "340a79fc",
   "metadata": {},
   "outputs": [
    {
     "data": {
      "text/html": [
       "<div>\n",
       "<style scoped>\n",
       "    .dataframe tbody tr th:only-of-type {\n",
       "        vertical-align: middle;\n",
       "    }\n",
       "\n",
       "    .dataframe tbody tr th {\n",
       "        vertical-align: top;\n",
       "    }\n",
       "\n",
       "    .dataframe thead th {\n",
       "        text-align: right;\n",
       "    }\n",
       "</style>\n",
       "<table border=\"1\" class=\"dataframe\">\n",
       "  <thead>\n",
       "    <tr style=\"text-align: right;\">\n",
       "      <th></th>\n",
       "      <th>Total raised in 2021 ($)</th>\n",
       "      <th>Total raised in 2020 ($)</th>\n",
       "      <th>Total raised in 2019 ($)</th>\n",
       "      <th>Total raised in 2018 ($)</th>\n",
       "      <th>Total raised in 2016 ($)</th>\n",
       "      <th>Total raised in 2015 ($)</th>\n",
       "      <th>Total raised in 2013 ($)</th>\n",
       "      <th>Total raised in 2011 ($)</th>\n",
       "      <th>Total raised in 2009 ($)</th>\n",
       "    </tr>\n",
       "  </thead>\n",
       "  <tbody>\n",
       "    <tr>\n",
       "      <th>0</th>\n",
       "      <td>191850</td>\n",
       "      <td>203050</td>\n",
       "      <td>184150</td>\n",
       "      <td>203000</td>\n",
       "      <td>196700</td>\n",
       "      <td>170000</td>\n",
       "      <td>166000</td>\n",
       "      <td>70000</td>\n",
       "      <td>130000</td>\n",
       "    </tr>\n",
       "  </tbody>\n",
       "</table>\n",
       "</div>"
      ],
      "text/plain": [
       "   Total raised in 2021 ($)  Total raised in 2020 ($)  \\\n",
       "0                    191850                    203050   \n",
       "\n",
       "   Total raised in 2019 ($)  Total raised in 2018 ($)  \\\n",
       "0                    184150                    203000   \n",
       "\n",
       "   Total raised in 2016 ($)  Total raised in 2015 ($)  \\\n",
       "0                    196700                    170000   \n",
       "\n",
       "   Total raised in 2013 ($)  Total raised in 2011 ($)  \\\n",
       "0                    166000                     70000   \n",
       "\n",
       "   Total raised in 2009 ($)  \n",
       "0                    130000  "
      ]
     },
     "execution_count": 506,
     "metadata": {},
     "output_type": "execute_result"
    }
   ],
   "source": [
    "# Analyse and define annual amounts\n",
    "\n",
    "total_2009 = 130000\n",
    "total_2011 = 70000\n",
    "total_2013 = 166000\n",
    "total_2015 = 170000\n",
    "total_2016 = 196700\n",
    "total_2018 = 203000\n",
    "total_2019 = 184150\n",
    "total_2020 = 203050\n",
    "total_2021 = 191850\n",
    "\n",
    "annual_amounts = [total_2009, total_2011, total_2013, total_2015, \n",
    "                  total_2016, total_2018, total_2019, total_2020, \n",
    "                  total_2021]\n",
    "\n",
    "year_1 = 2009\n",
    "year_2 = 2011\n",
    "year_3 = 2013\n",
    "year_4 = 2015\n",
    "year_5 = 2016\n",
    "year_6 = 2018\n",
    "year_7 = 2019\n",
    "year_8 = 2020\n",
    "year_9 = 2021\n",
    "\n",
    "time = [year_1, year_2, year_3, year_4, year_5, year_6, year_7, year_8, year_9]\n",
    "\n",
    "cumulative_totals = [total_2009, \n",
    "                    (total_2009+total_2011),\n",
    "                    (total_2009+total_2011+total_2013), \n",
    "                    (total_2009+total_2011+total_2013+total_2015),\n",
    "                    (total_2009+total_2011+total_2013+total_2015+total_2016),\n",
    "                    (total_2009+total_2011+total_2013+total_2015+total_2016+total_2018),\n",
    "                    (total_2009+total_2011+total_2013+total_2015+total_2016+total_2018+total_2019),\n",
    "                    (total_2009+total_2011+total_2013+total_2015+total_2016+total_2018+total_2019+total_2021),\n",
    "                    (total_2009+total_2011+total_2013+total_2015+total_2016+total_2018+total_2019+total_2020+total_2021)]\n",
    "\n",
    "annual_amounts_df = {\"Total raised in 2021 ($)\": [total_2021],\n",
    "                \"Total raised in 2020 ($)\": [total_2020],\n",
    "                \"Total raised in 2019 ($)\": [total_2019],\n",
    "                \"Total raised in 2018 ($)\": [total_2018],\n",
    "                \"Total raised in 2016 ($)\": [total_2016],\n",
    "                \"Total raised in 2015 ($)\": [total_2015],\n",
    "                \"Total raised in 2013 ($)\": [total_2013],\n",
    "                \"Total raised in 2011 ($)\": [total_2011],\n",
    "                \"Total raised in 2009 ($)\": [total_2009]}\n",
    "\n",
    "annual_amounts_df = pd.DataFrame(annual_amounts_df)\n",
    "annual_amounts_df"
   ]
  },
  {
   "cell_type": "code",
   "execution_count": 507,
   "id": "3c019a8e",
   "metadata": {},
   "outputs": [
    {
     "data": {
      "text/html": [
       "<div>\n",
       "<style scoped>\n",
       "    .dataframe tbody tr th:only-of-type {\n",
       "        vertical-align: middle;\n",
       "    }\n",
       "\n",
       "    .dataframe tbody tr th {\n",
       "        vertical-align: top;\n",
       "    }\n",
       "\n",
       "    .dataframe thead th {\n",
       "        text-align: right;\n",
       "    }\n",
       "</style>\n",
       "<table border=\"1\" class=\"dataframe\">\n",
       "  <thead>\n",
       "    <tr style=\"text-align: right;\">\n",
       "      <th></th>\n",
       "      <th>Total amount ($) raised 2009-2021</th>\n",
       "    </tr>\n",
       "  </thead>\n",
       "  <tbody>\n",
       "    <tr>\n",
       "      <th>0</th>\n",
       "      <td>1514750</td>\n",
       "    </tr>\n",
       "  </tbody>\n",
       "</table>\n",
       "</div>"
      ],
      "text/plain": [
       "   Total amount ($) raised 2009-2021\n",
       "0                            1514750"
      ]
     },
     "execution_count": 507,
     "metadata": {},
     "output_type": "execute_result"
    }
   ],
   "source": [
    "# Analyse and define overall amounts for 2009-2021 period\n",
    "\n",
    "total_overall_amount = total_2021 + total_2020 + total_2019 + total_2018 + total_2016 + total_2015 + total_2013 + total_2011 + total_2009\n",
    "\n",
    "total_overall_amount_df = {\"Total amount ($) raised 2009-2021\": [total_overall_amount]}\n",
    "total_overall_amount_df = pd.DataFrame(total_overall_amount_df)\n",
    "total_overall_amount_df"
   ]
  },
  {
   "cell_type": "code",
   "execution_count": 527,
   "id": "9f2fb7ff",
   "metadata": {},
   "outputs": [
    {
     "data": {
      "image/png": "[encoded data removed]",
      "text/plain": [
       "<Figure size 1080x360 with 1 Axes>"
      ]
     },
     "metadata": {},
     "output_type": "display_data"
    }
   ],
   "source": [
    "# Plot annual amounts as line graph\n",
    "\n",
    "# Font families\n",
    "\n",
    "font_1 = {'family':'helvetica','color':'black','size':16}\n",
    "font_2 = {'family':'helvetica','color':'black','size':12}\n",
    "\n",
    "# Plot\n",
    "\n",
    "plt.figure(figsize=(15,5))\n",
    "plt.plot(time, annual_amounts, label = \"Annual amount received (individual)\", color='green', marker='o', markersize='7', linewidth=2)\n",
    "plt.plot(time, cumulative_totals, label = \"Annual amount received (cumulative)\", color='red', marker='o', markersize='7', linewidth=2)\n",
    "plt.legend()\n",
    "plt.title('Total amounts received per annum, 2009-2021', fontdict = font_1)\n",
    "plt.xlabel('Year', fontdict = font_2)\n",
    "plt.ylabel('Amount ($ Million)', fontdict = font_2)\n",
    "\n",
    "# Aesthetics\n",
    "\n",
    "plt.gca().spines['top'].set_visible(False)\n",
    "plt.gca().spines['right'].set_visible(False)\n",
    "sns.set_context(\"paper\")\n",
    "plt.tight_layout()\n",
    "\n",
    "# Show/save\n",
    "plt.savefig(\"/Users/minoperic/Data Analytics/Data Investigations/vanda-and-young-finalists-2021/Images/total_amounts_combination.png\", \n",
    "            dpi=300)\n",
    "plt.show()"
   ]
  },
  {
   "cell_type": "code",
   "execution_count": null,
   "id": "5cc461ae",
   "metadata": {},
   "outputs": [],
   "source": []
  }
 ],
 "metadata": {
  "kernelspec": {
   "display_name": "Python 3",
   "language": "python",
   "name": "python3"
  },
  "language_info": {
   "codemirror_mode": {
    "name": "ipython",
    "version": 3
   },
   "file_extension": ".py",
   "mimetype": "text/x-python",
   "name": "python",
   "nbconvert_exporter": "python",
   "pygments_lexer": "ipython3",
   "version": "3.8.8"
  }
 },
 "nbformat": 4,
 "nbformat_minor": 5
}
